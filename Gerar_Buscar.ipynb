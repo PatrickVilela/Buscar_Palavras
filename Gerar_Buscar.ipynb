{
  "nbformat": 4,
  "nbformat_minor": 0,
  "metadata": {
    "colab": {
      "provenance": [],
      "authorship_tag": "ABX9TyNkV0Tk+L4Pox48ouVU+lgh",
      "include_colab_link": true
    },
    "kernelspec": {
      "name": "python3",
      "display_name": "Python 3"
    },
    "language_info": {
      "name": "python"
    }
  },
  "cells": [
    {
      "cell_type": "markdown",
      "metadata": {
        "id": "view-in-github",
        "colab_type": "text"
      },
      "source": [
        "<a href=\"https://colab.research.google.com/github/PatrickVilela/Buscar_Palavras/blob/main/Gerar_Buscar.ipynb\" target=\"_parent\"><img src=\"https://colab.research.google.com/assets/colab-badge.svg\" alt=\"Open In Colab\"/></a>"
      ]
    },
    {
      "cell_type": "markdown",
      "source": [
        "## Codigo para Gerar um arquivo com palavras aleatórias\n"
      ],
      "metadata": {
        "id": "YH9JLdECS0ja"
      }
    },
    {
      "cell_type": "code",
      "execution_count": 4,
      "metadata": {
        "colab": {
          "base_uri": "https://localhost:8080/"
        },
        "id": "Oe30C1u_PjFb",
        "outputId": "1dfcdb7f-0be0-4e69-8f6a-3bd3b522e934"
      },
      "outputs": [
        {
          "output_type": "stream",
          "name": "stdout",
          "text": [
            "Arquivo 'palavras.txt' gerado com sucesso.\n"
          ]
        }
      ],
      "source": [
        "import random\n",
        "import string\n",
        "\n",
        "def generate_random_word(length):\n",
        "    letters = string.ascii_lowercase\n",
        "    return ''.join(random.choice(letters) for _ in range(length))\n",
        "\n",
        "def generate_text_file(file_path, num_words, num_repeats):\n",
        "    with open(file_path, 'w') as file:\n",
        "        for _ in range(num_words):\n",
        "            word = generate_random_word(random.randint(3, 8))  # Gera palavras com comprimento entre 3 e 8 caracteres\n",
        "            file.write(word + '\\n')\n",
        "\n",
        "        # Repete algumas palavras aleatórias\n",
        "        words = [generate_random_word(random.randint(3, 8)) for _ in range(num_repeats)]\n",
        "        for _ in range(num_repeats):\n",
        "            repeated_word = random.choice(words)\n",
        "            file.write(repeated_word + '\\n')\n",
        "\n",
        "file_path = \"palavras.txt\"\n",
        "num_words = 50\n",
        "num_repeats = 10\n",
        "\n",
        "generate_text_file(file_path, num_words, num_repeats)\n",
        "print(f\"Arquivo '{file_path}' gerado com sucesso.\")\n"
      ]
    },
    {
      "cell_type": "code",
      "source": [],
      "metadata": {
        "id": "XjCAK0vtPkPA"
      },
      "execution_count": null,
      "outputs": []
    },
    {
      "cell_type": "markdown",
      "source": [
        "## Teste\n",
        "\n",
        "Buscar a palavra joseul"
      ],
      "metadata": {
        "id": "tyydleSVSKxy"
      }
    },
    {
      "cell_type": "code",
      "source": [
        "def search_word_in_file(file_path, keyword):\n",
        "    try:\n",
        "        with open(file_path, 'r') as file:\n",
        "            lines = file.readlines()\n",
        "            found_lines = [line.strip() for line in lines if keyword in line]\n",
        "            if found_lines:\n",
        "                print(f\"Palavra '{keyword}' encontrada nas seguintes linhas:\")\n",
        "                for line_number, line in enumerate(found_lines, start=1):\n",
        "                    print(f\"Linha {line_number}: {line}\")\n",
        "            else:\n",
        "                print(f\"Palavra '{keyword}' não encontrada no arquivo.\")\n",
        "    except FileNotFoundError:\n",
        "        print(\"Arquivo não encontrado.\")\n",
        "\n",
        "def main():\n",
        "    file_path = input(\"Digite o caminho do arquivo de texto: \")\n",
        "    keyword = input(\"Digite a palavra-chave que deseja buscar: \")\n",
        "    search_word_in_file(file_path, keyword)\n",
        "\n",
        "if __name__ == \"__main__\":\n",
        "    main()\n"
      ],
      "metadata": {
        "colab": {
          "base_uri": "https://localhost:8080/"
        },
        "id": "1RRf2uNBSQCy",
        "outputId": "f839813e-76a8-4e9e-ce07-1dac87bff528"
      },
      "execution_count": 5,
      "outputs": [
        {
          "output_type": "stream",
          "name": "stdout",
          "text": [
            "Digite o caminho do arquivo de texto: /content/palavras.txt\n",
            "Digite a palavra-chave que deseja buscar: joseul\n",
            "Palavra 'joseul' encontrada nas seguintes linhas:\n",
            "Linha 1: joseul\n",
            "Linha 2: joseul\n",
            "Linha 3: joseul\n",
            "Linha 4: joseul\n"
          ]
        }
      ]
    },
    {
      "cell_type": "code",
      "source": [],
      "metadata": {
        "id": "-jk6qiSISWXY"
      },
      "execution_count": null,
      "outputs": []
    }
  ]
}